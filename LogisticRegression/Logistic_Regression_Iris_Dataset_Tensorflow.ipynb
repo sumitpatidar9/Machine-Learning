{
 "cells": [
  {
   "cell_type": "code",
   "execution_count": 24,
   "id": "021819b0",
   "metadata": {},
   "outputs": [
    {
     "data": {
      "text/html": [
       "<div>\n",
       "<style scoped>\n",
       "    .dataframe tbody tr th:only-of-type {\n",
       "        vertical-align: middle;\n",
       "    }\n",
       "\n",
       "    .dataframe tbody tr th {\n",
       "        vertical-align: top;\n",
       "    }\n",
       "\n",
       "    .dataframe thead th {\n",
       "        text-align: right;\n",
       "    }\n",
       "</style>\n",
       "<table border=\"1\" class=\"dataframe\">\n",
       "  <thead>\n",
       "    <tr style=\"text-align: right;\">\n",
       "      <th></th>\n",
       "      <th>Id</th>\n",
       "      <th>SepalLengthCm</th>\n",
       "      <th>SepalWidthCm</th>\n",
       "      <th>PetalLengthCm</th>\n",
       "      <th>PetalWidthCm</th>\n",
       "      <th>Species</th>\n",
       "    </tr>\n",
       "  </thead>\n",
       "  <tbody>\n",
       "    <tr>\n",
       "      <th>0</th>\n",
       "      <td>1</td>\n",
       "      <td>5.1</td>\n",
       "      <td>3.5</td>\n",
       "      <td>1.4</td>\n",
       "      <td>0.2</td>\n",
       "      <td>Iris-setosa</td>\n",
       "    </tr>\n",
       "    <tr>\n",
       "      <th>1</th>\n",
       "      <td>2</td>\n",
       "      <td>4.9</td>\n",
       "      <td>3.0</td>\n",
       "      <td>1.4</td>\n",
       "      <td>0.2</td>\n",
       "      <td>Iris-setosa</td>\n",
       "    </tr>\n",
       "    <tr>\n",
       "      <th>2</th>\n",
       "      <td>3</td>\n",
       "      <td>4.7</td>\n",
       "      <td>3.2</td>\n",
       "      <td>1.3</td>\n",
       "      <td>0.2</td>\n",
       "      <td>Iris-setosa</td>\n",
       "    </tr>\n",
       "    <tr>\n",
       "      <th>3</th>\n",
       "      <td>4</td>\n",
       "      <td>4.6</td>\n",
       "      <td>3.1</td>\n",
       "      <td>1.5</td>\n",
       "      <td>0.2</td>\n",
       "      <td>Iris-setosa</td>\n",
       "    </tr>\n",
       "    <tr>\n",
       "      <th>4</th>\n",
       "      <td>5</td>\n",
       "      <td>5.0</td>\n",
       "      <td>3.6</td>\n",
       "      <td>1.4</td>\n",
       "      <td>0.2</td>\n",
       "      <td>Iris-setosa</td>\n",
       "    </tr>\n",
       "  </tbody>\n",
       "</table>\n",
       "</div>"
      ],
      "text/plain": [
       "   Id  SepalLengthCm  SepalWidthCm  PetalLengthCm  PetalWidthCm      Species\n",
       "0   1            5.1           3.5            1.4           0.2  Iris-setosa\n",
       "1   2            4.9           3.0            1.4           0.2  Iris-setosa\n",
       "2   3            4.7           3.2            1.3           0.2  Iris-setosa\n",
       "3   4            4.6           3.1            1.5           0.2  Iris-setosa\n",
       "4   5            5.0           3.6            1.4           0.2  Iris-setosa"
      ]
     },
     "metadata": {},
     "output_type": "display_data"
    },
    {
     "data": {
      "text/html": [
       "<div>\n",
       "<style scoped>\n",
       "    .dataframe tbody tr th:only-of-type {\n",
       "        vertical-align: middle;\n",
       "    }\n",
       "\n",
       "    .dataframe tbody tr th {\n",
       "        vertical-align: top;\n",
       "    }\n",
       "\n",
       "    .dataframe thead th {\n",
       "        text-align: right;\n",
       "    }\n",
       "</style>\n",
       "<table border=\"1\" class=\"dataframe\">\n",
       "  <thead>\n",
       "    <tr style=\"text-align: right;\">\n",
       "      <th></th>\n",
       "      <th>SepalLengthCm</th>\n",
       "      <th>SepalWidthCm</th>\n",
       "      <th>PetalLengthCm</th>\n",
       "      <th>PetalWidthCm</th>\n",
       "    </tr>\n",
       "  </thead>\n",
       "  <tbody>\n",
       "    <tr>\n",
       "      <th>0</th>\n",
       "      <td>5.1</td>\n",
       "      <td>3.5</td>\n",
       "      <td>1.4</td>\n",
       "      <td>0.2</td>\n",
       "    </tr>\n",
       "    <tr>\n",
       "      <th>27</th>\n",
       "      <td>5.2</td>\n",
       "      <td>3.5</td>\n",
       "      <td>1.5</td>\n",
       "      <td>0.2</td>\n",
       "    </tr>\n",
       "    <tr>\n",
       "      <th>36</th>\n",
       "      <td>5.5</td>\n",
       "      <td>3.5</td>\n",
       "      <td>1.3</td>\n",
       "      <td>0.2</td>\n",
       "    </tr>\n",
       "    <tr>\n",
       "      <th>106</th>\n",
       "      <td>4.9</td>\n",
       "      <td>2.5</td>\n",
       "      <td>4.5</td>\n",
       "      <td>1.7</td>\n",
       "    </tr>\n",
       "    <tr>\n",
       "      <th>148</th>\n",
       "      <td>6.2</td>\n",
       "      <td>3.4</td>\n",
       "      <td>5.4</td>\n",
       "      <td>2.3</td>\n",
       "    </tr>\n",
       "  </tbody>\n",
       "</table>\n",
       "</div>"
      ],
      "text/plain": [
       "     SepalLengthCm  SepalWidthCm  PetalLengthCm  PetalWidthCm\n",
       "0              5.1           3.5            1.4           0.2\n",
       "27             5.2           3.5            1.5           0.2\n",
       "36             5.5           3.5            1.3           0.2\n",
       "106            4.9           2.5            4.5           1.7\n",
       "148            6.2           3.4            5.4           2.3"
      ]
     },
     "metadata": {},
     "output_type": "display_data"
    },
    {
     "data": {
      "text/plain": [
       "0      0\n",
       "27     0\n",
       "36     0\n",
       "106    2\n",
       "148    2\n",
       "Name: Species, dtype: int32"
      ]
     },
     "metadata": {},
     "output_type": "display_data"
    }
   ],
   "source": [
    "import pandas as pd\n",
    "from sklearn.model_selection import train_test_split\n",
    "from sklearn.preprocessing import LabelEncoder\n",
    "\n",
    "\n",
    "df = pd.read_csv('Iris.csv')\n",
    "df = pd.DataFrame(df)\n",
    "\n",
    "display(df.head())\n",
    "df = df.drop(columns = ['Id'])\n",
    "\n",
    "\n",
    "X = df[['SepalLengthCm', 'SepalWidthCm', 'PetalLengthCm', 'PetalWidthCm']]\n",
    "le = LabelEncoder()\n",
    "df['Species'] = le.fit_transform(df['Species'])\n",
    "y = df['Species']\n",
    "\n",
    "X_train, X_test, y_train, y_test = train_test_split(X,y, test_size = 0.32, random_state  = 2)\n",
    "\n",
    "display(X_train.head())\n",
    "display(y_train.head())"
   ]
  },
  {
   "cell_type": "code",
   "execution_count": 28,
   "id": "41dfbeb7",
   "metadata": {},
   "outputs": [
    {
     "data": {
      "text/plain": [
       "<AxesSubplot:>"
      ]
     },
     "execution_count": 28,
     "metadata": {},
     "output_type": "execute_result"
    },
    {
     "data": {
      "image/png": "[encoded data removed]",
      "text/plain": [
       "<Figure size 500x300 with 1 Axes>"
      ]
     },
     "metadata": {},
     "output_type": "display_data"
    }
   ],
   "source": [
    "import matplotlib.pyplot as plt\n",
    "\n",
    "plt.figure(figsize = (5,3))\n",
    "df['SepalLengthCm'].hist()\n",
    "df['SepalWidthCm'].hist()"
   ]
  },
  {
   "cell_type": "code",
   "execution_count": 29,
   "id": "d99c32c2",
   "metadata": {},
   "outputs": [
    {
     "data": {
      "text/plain": [
       "<AxesSubplot:>"
      ]
     },
     "execution_count": 29,
     "metadata": {},
     "output_type": "execute_result"
    },
    {
     "data": {
      "image/png": "[encoded data removed]",
      "text/plain": [
       "<Figure size 500x300 with 1 Axes>"
      ]
     },
     "metadata": {},
     "output_type": "display_data"
    }
   ],
   "source": [
    "plt.figure(figsize = (5,3))\n",
    "\n",
    "df['PetalLengthCm'].hist()\n",
    "df['PetalWidthCm'].hist()"
   ]
  },
  {
   "cell_type": "code",
   "execution_count": 30,
   "id": "481a1202",
   "metadata": {},
   "outputs": [
    {
     "data": {
      "text/html": [
       "<div>\n",
       "<style scoped>\n",
       "    .dataframe tbody tr th:only-of-type {\n",
       "        vertical-align: middle;\n",
       "    }\n",
       "\n",
       "    .dataframe tbody tr th {\n",
       "        vertical-align: top;\n",
       "    }\n",
       "\n",
       "    .dataframe thead th {\n",
       "        text-align: right;\n",
       "    }\n",
       "</style>\n",
       "<table border=\"1\" class=\"dataframe\">\n",
       "  <thead>\n",
       "    <tr style=\"text-align: right;\">\n",
       "      <th></th>\n",
       "      <th>SepalLengthCm</th>\n",
       "      <th>SepalWidthCm</th>\n",
       "      <th>PetalLengthCm</th>\n",
       "      <th>PetalWidthCm</th>\n",
       "      <th>Species</th>\n",
       "    </tr>\n",
       "  </thead>\n",
       "  <tbody>\n",
       "    <tr>\n",
       "      <th>SepalLengthCm</th>\n",
       "      <td>1.000000</td>\n",
       "      <td>-0.109369</td>\n",
       "      <td>0.871754</td>\n",
       "      <td>0.817954</td>\n",
       "      <td>0.782561</td>\n",
       "    </tr>\n",
       "    <tr>\n",
       "      <th>SepalWidthCm</th>\n",
       "      <td>-0.109369</td>\n",
       "      <td>1.000000</td>\n",
       "      <td>-0.420516</td>\n",
       "      <td>-0.356544</td>\n",
       "      <td>-0.419446</td>\n",
       "    </tr>\n",
       "    <tr>\n",
       "      <th>PetalLengthCm</th>\n",
       "      <td>0.871754</td>\n",
       "      <td>-0.420516</td>\n",
       "      <td>1.000000</td>\n",
       "      <td>0.962757</td>\n",
       "      <td>0.949043</td>\n",
       "    </tr>\n",
       "    <tr>\n",
       "      <th>PetalWidthCm</th>\n",
       "      <td>0.817954</td>\n",
       "      <td>-0.356544</td>\n",
       "      <td>0.962757</td>\n",
       "      <td>1.000000</td>\n",
       "      <td>0.956464</td>\n",
       "    </tr>\n",
       "    <tr>\n",
       "      <th>Species</th>\n",
       "      <td>0.782561</td>\n",
       "      <td>-0.419446</td>\n",
       "      <td>0.949043</td>\n",
       "      <td>0.956464</td>\n",
       "      <td>1.000000</td>\n",
       "    </tr>\n",
       "  </tbody>\n",
       "</table>\n",
       "</div>"
      ],
      "text/plain": [
       "               SepalLengthCm  SepalWidthCm  PetalLengthCm  PetalWidthCm  \\\n",
       "SepalLengthCm       1.000000     -0.109369       0.871754      0.817954   \n",
       "SepalWidthCm       -0.109369      1.000000      -0.420516     -0.356544   \n",
       "PetalLengthCm       0.871754     -0.420516       1.000000      0.962757   \n",
       "PetalWidthCm        0.817954     -0.356544       0.962757      1.000000   \n",
       "Species             0.782561     -0.419446       0.949043      0.956464   \n",
       "\n",
       "                Species  \n",
       "SepalLengthCm  0.782561  \n",
       "SepalWidthCm  -0.419446  \n",
       "PetalLengthCm  0.949043  \n",
       "PetalWidthCm   0.956464  \n",
       "Species        1.000000  "
      ]
     },
     "execution_count": 30,
     "metadata": {},
     "output_type": "execute_result"
    }
   ],
   "source": [
    "df.corr()"
   ]
  },
  {
   "cell_type": "code",
   "execution_count": 32,
   "id": "b1c18fb3",
   "metadata": {},
   "outputs": [
    {
     "data": {
      "image/png": "[encoded data removed]",
      "text/plain": [
       "<Figure size 500x200 with 2 Axes>"
      ]
     },
     "metadata": {},
     "output_type": "display_data"
    }
   ],
   "source": [
    "import seaborn as sns\n",
    "\n",
    "correlation_matrix = df.corr()\n",
    "\n",
    "plt.figure(figsize=(5, 2))\n",
    "sns.heatmap(correlation_matrix, annot=True, cmap='coolwarm', fmt=\".1f\", linewidths=.5)\n",
    "plt.title('Correlation Matrix')\n",
    "plt.show()"
   ]
  },
  {
   "cell_type": "code",
   "execution_count": 59,
   "id": "97e1465e",
   "metadata": {},
   "outputs": [
    {
     "name": "stdout",
     "output_type": "stream",
     "text": [
      "145    2\n",
      "146    2\n",
      "147    2\n",
      "148    2\n",
      "149    2\n",
      "Name: Species, dtype: int32\n"
     ]
    }
   ],
   "source": [
    "X.head(3)\n",
    "print(y.tail(5))"
   ]
  },
  {
   "cell_type": "code",
   "execution_count": 48,
   "id": "81d8c7d8",
   "metadata": {},
   "outputs": [
    {
     "data": {
      "text/plain": [
       "<matplotlib.collections.PathCollection at 0x234f06352b0>"
      ]
     },
     "execution_count": 48,
     "metadata": {},
     "output_type": "execute_result"
    },
    {
     "data": {
      "image/png": "[encoded data removed]",
      "text/plain": [
       "<Figure size 500x300 with 1 Axes>"
      ]
     },
     "metadata": {},
     "output_type": "display_data"
    }
   ],
   "source": [
    "plt.figure(figsize=(5, 3))\n",
    "plt.scatter(X['SepalLengthCm'], X['SepalWidthCm'], c = y, cmap = 'brg')"
   ]
  },
  {
   "cell_type": "code",
   "execution_count": 53,
   "id": "6dca9032",
   "metadata": {},
   "outputs": [],
   "source": [
    "from sklearn.preprocessing import StandardScaler\n",
    "scaler = StandardScaler()\n",
    "X_train_scaled = scaler.fit_transform(X_train)\n",
    "X_test_scaled = scaler.transform(X_test)"
   ]
  },
  {
   "cell_type": "code",
   "execution_count": 102,
   "id": "6ca7136d",
   "metadata": {},
   "outputs": [
    {
     "name": "stdout",
     "output_type": "stream",
     "text": [
      "Epoch 1/150\n",
      "3/3 [==============================] - 1s 156ms/step - loss: 1.0975 - accuracy: 0.3951 - val_loss: 1.0961 - val_accuracy: 0.4286\n",
      "Epoch 2/150\n",
      "3/3 [==============================] - 0s 30ms/step - loss: 1.0939 - accuracy: 0.6049 - val_loss: 1.0927 - val_accuracy: 0.5238\n",
      "Epoch 3/150\n",
      "3/3 [==============================] - 0s 27ms/step - loss: 1.0905 - accuracy: 0.6543 - val_loss: 1.0889 - val_accuracy: 0.6667\n",
      "Epoch 4/150\n",
      "3/3 [==============================] - 0s 29ms/step - loss: 1.0869 - accuracy: 0.6914 - val_loss: 1.0847 - val_accuracy: 0.7619\n",
      "Epoch 5/150\n",
      "3/3 [==============================] - 0s 30ms/step - loss: 1.0829 - accuracy: 0.7407 - val_loss: 1.0800 - val_accuracy: 0.7619\n",
      "Epoch 6/150\n",
      "3/3 [==============================] - 0s 29ms/step - loss: 1.0786 - accuracy: 0.7778 - val_loss: 1.0748 - val_accuracy: 0.7619\n",
      "Epoch 7/150\n",
      "3/3 [==============================] - 0s 29ms/step - loss: 1.0737 - accuracy: 0.8025 - val_loss: 1.0690 - val_accuracy: 0.7619\n",
      "Epoch 8/150\n",
      "3/3 [==============================] - 0s 31ms/step - loss: 1.0685 - accuracy: 0.7901 - val_loss: 1.0622 - val_accuracy: 0.7619\n",
      "Epoch 9/150\n",
      "3/3 [==============================] - 0s 32ms/step - loss: 1.0625 - accuracy: 0.7901 - val_loss: 1.0550 - val_accuracy: 0.7619\n",
      "Epoch 10/150\n",
      "3/3 [==============================] - 0s 31ms/step - loss: 1.0562 - accuracy: 0.8025 - val_loss: 1.0469 - val_accuracy: 0.7619\n",
      "Epoch 11/150\n",
      "3/3 [==============================] - 0s 29ms/step - loss: 1.0491 - accuracy: 0.8025 - val_loss: 1.0383 - val_accuracy: 0.7619\n",
      "Epoch 12/150\n",
      "3/3 [==============================] - 0s 32ms/step - loss: 1.0420 - accuracy: 0.7901 - val_loss: 1.0292 - val_accuracy: 0.7619\n",
      "Epoch 13/150\n",
      "3/3 [==============================] - 0s 31ms/step - loss: 1.0345 - accuracy: 0.7901 - val_loss: 1.0201 - val_accuracy: 0.7619\n",
      "Epoch 14/150\n",
      "3/3 [==============================] - 0s 33ms/step - loss: 1.0264 - accuracy: 0.8025 - val_loss: 1.0112 - val_accuracy: 0.7619\n",
      "Epoch 15/150\n",
      "3/3 [==============================] - 0s 32ms/step - loss: 1.0188 - accuracy: 0.8025 - val_loss: 1.0025 - val_accuracy: 0.7619\n",
      "Epoch 16/150\n",
      "3/3 [==============================] - 0s 32ms/step - loss: 1.0110 - accuracy: 0.8025 - val_loss: 0.9941 - val_accuracy: 0.7619\n",
      "Epoch 17/150\n",
      "3/3 [==============================] - 0s 34ms/step - loss: 1.0036 - accuracy: 0.8025 - val_loss: 0.9860 - val_accuracy: 0.8095\n",
      "Epoch 18/150\n",
      "3/3 [==============================] - 0s 36ms/step - loss: 0.9961 - accuracy: 0.8148 - val_loss: 0.9782 - val_accuracy: 0.8095\n",
      "Epoch 19/150\n",
      "3/3 [==============================] - 0s 34ms/step - loss: 0.9887 - accuracy: 0.8148 - val_loss: 0.9708 - val_accuracy: 0.8095\n",
      "Epoch 20/150\n",
      "3/3 [==============================] - 0s 31ms/step - loss: 0.9815 - accuracy: 0.8148 - val_loss: 0.9634 - val_accuracy: 0.8095\n",
      "Epoch 21/150\n",
      "3/3 [==============================] - 0s 35ms/step - loss: 0.9744 - accuracy: 0.8148 - val_loss: 0.9562 - val_accuracy: 0.8095\n",
      "Epoch 22/150\n",
      "3/3 [==============================] - 0s 32ms/step - loss: 0.9670 - accuracy: 0.8148 - val_loss: 0.9489 - val_accuracy: 0.8095\n",
      "Epoch 23/150\n",
      "3/3 [==============================] - 0s 36ms/step - loss: 0.9596 - accuracy: 0.8148 - val_loss: 0.9415 - val_accuracy: 0.8095\n",
      "Epoch 24/150\n",
      "3/3 [==============================] - 0s 35ms/step - loss: 0.9517 - accuracy: 0.8148 - val_loss: 0.9339 - val_accuracy: 0.8095\n",
      "Epoch 25/150\n",
      "3/3 [==============================] - 0s 31ms/step - loss: 0.9436 - accuracy: 0.8272 - val_loss: 0.9257 - val_accuracy: 0.8095\n",
      "Epoch 26/150\n",
      "3/3 [==============================] - 0s 32ms/step - loss: 0.9349 - accuracy: 0.8272 - val_loss: 0.9169 - val_accuracy: 0.8095\n",
      "Epoch 27/150\n",
      "3/3 [==============================] - 0s 32ms/step - loss: 0.9256 - accuracy: 0.8272 - val_loss: 0.9079 - val_accuracy: 0.8095\n",
      "Epoch 28/150\n",
      "3/3 [==============================] - 0s 34ms/step - loss: 0.9164 - accuracy: 0.8272 - val_loss: 0.8986 - val_accuracy: 0.8095\n",
      "Epoch 29/150\n",
      "3/3 [==============================] - 0s 35ms/step - loss: 0.9066 - accuracy: 0.8272 - val_loss: 0.8897 - val_accuracy: 0.8095\n",
      "Epoch 30/150\n",
      "3/3 [==============================] - 0s 32ms/step - loss: 0.8972 - accuracy: 0.8395 - val_loss: 0.8810 - val_accuracy: 0.8095\n",
      "Epoch 31/150\n",
      "3/3 [==============================] - 0s 44ms/step - loss: 0.8883 - accuracy: 0.8395 - val_loss: 0.8727 - val_accuracy: 0.8095\n",
      "Epoch 32/150\n",
      "3/3 [==============================] - 0s 34ms/step - loss: 0.8788 - accuracy: 0.8395 - val_loss: 0.8651 - val_accuracy: 0.8095\n",
      "Epoch 33/150\n",
      "3/3 [==============================] - 0s 33ms/step - loss: 0.8704 - accuracy: 0.8395 - val_loss: 0.8576 - val_accuracy: 0.8095\n",
      "Epoch 34/150\n",
      "3/3 [==============================] - 0s 31ms/step - loss: 0.8617 - accuracy: 0.8395 - val_loss: 0.8502 - val_accuracy: 0.8095\n",
      "Epoch 35/150\n",
      "3/3 [==============================] - 0s 33ms/step - loss: 0.8536 - accuracy: 0.8642 - val_loss: 0.8431 - val_accuracy: 0.8095\n",
      "Epoch 36/150\n",
      "3/3 [==============================] - 0s 33ms/step - loss: 0.8455 - accuracy: 0.8642 - val_loss: 0.8360 - val_accuracy: 0.8095\n",
      "Epoch 37/150\n",
      "3/3 [==============================] - 0s 32ms/step - loss: 0.8379 - accuracy: 0.8765 - val_loss: 0.8290 - val_accuracy: 0.8095\n",
      "Epoch 38/150\n",
      "3/3 [==============================] - 0s 31ms/step - loss: 0.8302 - accuracy: 0.8642 - val_loss: 0.8219 - val_accuracy: 0.8095\n",
      "Epoch 39/150\n",
      "3/3 [==============================] - 0s 31ms/step - loss: 0.8229 - accuracy: 0.8765 - val_loss: 0.8145 - val_accuracy: 0.8095\n",
      "Epoch 40/150\n",
      "3/3 [==============================] - 0s 32ms/step - loss: 0.8160 - accuracy: 0.8765 - val_loss: 0.8072 - val_accuracy: 0.8095\n",
      "Epoch 41/150\n",
      "3/3 [==============================] - 0s 31ms/step - loss: 0.8090 - accuracy: 0.8765 - val_loss: 0.7998 - val_accuracy: 0.8095\n",
      "Epoch 42/150\n",
      "3/3 [==============================] - 0s 32ms/step - loss: 0.8019 - accuracy: 0.8765 - val_loss: 0.7931 - val_accuracy: 0.8571\n",
      "Epoch 43/150\n",
      "3/3 [==============================] - 0s 31ms/step - loss: 0.7954 - accuracy: 0.8765 - val_loss: 0.7856 - val_accuracy: 0.9048\n",
      "Epoch 44/150\n",
      "3/3 [==============================] - 0s 31ms/step - loss: 0.7886 - accuracy: 0.8889 - val_loss: 0.7787 - val_accuracy: 0.9048\n",
      "Epoch 45/150\n",
      "3/3 [==============================] - 0s 33ms/step - loss: 0.7818 - accuracy: 0.8889 - val_loss: 0.7720 - val_accuracy: 0.9524\n",
      "Epoch 46/150\n",
      "3/3 [==============================] - 0s 34ms/step - loss: 0.7752 - accuracy: 0.8889 - val_loss: 0.7655 - val_accuracy: 0.9524\n",
      "Epoch 47/150\n",
      "3/3 [==============================] - 0s 33ms/step - loss: 0.7687 - accuracy: 0.8889 - val_loss: 0.7592 - val_accuracy: 0.9524\n",
      "Epoch 48/150\n",
      "3/3 [==============================] - 0s 33ms/step - loss: 0.7620 - accuracy: 0.8889 - val_loss: 0.7525 - val_accuracy: 0.9524\n",
      "Epoch 49/150\n",
      "3/3 [==============================] - 0s 34ms/step - loss: 0.7555 - accuracy: 0.9136 - val_loss: 0.7459 - val_accuracy: 1.0000\n",
      "Epoch 50/150\n",
      "3/3 [==============================] - 0s 41ms/step - loss: 0.7489 - accuracy: 0.9136 - val_loss: 0.7396 - val_accuracy: 1.0000\n",
      "Epoch 51/150\n",
      "3/3 [==============================] - 0s 49ms/step - loss: 0.7427 - accuracy: 0.9136 - val_loss: 0.7329 - val_accuracy: 1.0000\n",
      "Epoch 52/150\n",
      "3/3 [==============================] - 0s 34ms/step - loss: 0.7365 - accuracy: 0.9136 - val_loss: 0.7265 - val_accuracy: 1.0000\n",
      "Epoch 53/150\n",
      "3/3 [==============================] - 0s 33ms/step - loss: 0.7304 - accuracy: 0.9259 - val_loss: 0.7201 - val_accuracy: 1.0000\n",
      "Epoch 54/150\n",
      "3/3 [==============================] - 0s 34ms/step - loss: 0.7243 - accuracy: 0.9259 - val_loss: 0.7147 - val_accuracy: 1.0000\n",
      "Epoch 55/150\n",
      "3/3 [==============================] - 0s 31ms/step - loss: 0.7181 - accuracy: 0.9383 - val_loss: 0.7095 - val_accuracy: 1.0000\n",
      "Epoch 56/150\n",
      "3/3 [==============================] - 0s 37ms/step - loss: 0.7119 - accuracy: 0.9383 - val_loss: 0.7049 - val_accuracy: 1.0000\n",
      "Epoch 57/150\n",
      "3/3 [==============================] - 0s 43ms/step - loss: 0.7065 - accuracy: 0.9383 - val_loss: 0.7010 - val_accuracy: 1.0000\n",
      "Epoch 58/150\n",
      "3/3 [==============================] - 0s 42ms/step - loss: 0.7007 - accuracy: 0.9383 - val_loss: 0.6958 - val_accuracy: 1.0000\n",
      "Epoch 59/150\n"
     ]
    },
    {
     "name": "stdout",
     "output_type": "stream",
     "text": [
      "3/3 [==============================] - 0s 40ms/step - loss: 0.6950 - accuracy: 0.9506 - val_loss: 0.6899 - val_accuracy: 1.0000\n",
      "Epoch 60/150\n",
      "3/3 [==============================] - 0s 34ms/step - loss: 0.6886 - accuracy: 0.9506 - val_loss: 0.6836 - val_accuracy: 1.0000\n",
      "Epoch 61/150\n",
      "3/3 [==============================] - 0s 36ms/step - loss: 0.6829 - accuracy: 0.9506 - val_loss: 0.6781 - val_accuracy: 1.0000\n",
      "Epoch 62/150\n",
      "3/3 [==============================] - 0s 47ms/step - loss: 0.6766 - accuracy: 0.9506 - val_loss: 0.6725 - val_accuracy: 1.0000\n",
      "Epoch 63/150\n",
      "3/3 [==============================] - 0s 37ms/step - loss: 0.6705 - accuracy: 0.9506 - val_loss: 0.6673 - val_accuracy: 1.0000\n",
      "Epoch 64/150\n",
      "3/3 [==============================] - 0s 35ms/step - loss: 0.6647 - accuracy: 0.9506 - val_loss: 0.6631 - val_accuracy: 1.0000\n",
      "Epoch 65/150\n",
      "3/3 [==============================] - 0s 33ms/step - loss: 0.6583 - accuracy: 0.9506 - val_loss: 0.6581 - val_accuracy: 1.0000\n",
      "Epoch 66/150\n",
      "3/3 [==============================] - 0s 32ms/step - loss: 0.6524 - accuracy: 0.9630 - val_loss: 0.6539 - val_accuracy: 1.0000\n",
      "Epoch 67/150\n",
      "3/3 [==============================] - 0s 31ms/step - loss: 0.6466 - accuracy: 0.9630 - val_loss: 0.6505 - val_accuracy: 1.0000\n",
      "Epoch 68/150\n",
      "3/3 [==============================] - 0s 31ms/step - loss: 0.6416 - accuracy: 0.9630 - val_loss: 0.6484 - val_accuracy: 1.0000\n",
      "Epoch 69/150\n",
      "3/3 [==============================] - 0s 32ms/step - loss: 0.6364 - accuracy: 0.9630 - val_loss: 0.6455 - val_accuracy: 0.9524\n",
      "Epoch 70/150\n",
      "3/3 [==============================] - 0s 33ms/step - loss: 0.6314 - accuracy: 0.9753 - val_loss: 0.6408 - val_accuracy: 0.9524\n",
      "Epoch 71/150\n",
      "3/3 [==============================] - 0s 47ms/step - loss: 0.6261 - accuracy: 0.9753 - val_loss: 0.6348 - val_accuracy: 0.9524\n",
      "Epoch 72/150\n",
      "3/3 [==============================] - 0s 45ms/step - loss: 0.6213 - accuracy: 0.9753 - val_loss: 0.6278 - val_accuracy: 1.0000\n",
      "Epoch 73/150\n",
      "3/3 [==============================] - 0s 34ms/step - loss: 0.6158 - accuracy: 0.9753 - val_loss: 0.6224 - val_accuracy: 1.0000\n",
      "Epoch 74/150\n",
      "3/3 [==============================] - 0s 33ms/step - loss: 0.6109 - accuracy: 0.9753 - val_loss: 0.6182 - val_accuracy: 1.0000\n",
      "Epoch 75/150\n",
      "3/3 [==============================] - 0s 36ms/step - loss: 0.6060 - accuracy: 0.9753 - val_loss: 0.6129 - val_accuracy: 1.0000\n",
      "Epoch 76/150\n",
      "3/3 [==============================] - 0s 45ms/step - loss: 0.6011 - accuracy: 0.9753 - val_loss: 0.6071 - val_accuracy: 1.0000\n",
      "Epoch 77/150\n",
      "3/3 [==============================] - 0s 38ms/step - loss: 0.5965 - accuracy: 0.9753 - val_loss: 0.6013 - val_accuracy: 1.0000\n",
      "Epoch 78/150\n",
      "3/3 [==============================] - 0s 34ms/step - loss: 0.5923 - accuracy: 0.9753 - val_loss: 0.5962 - val_accuracy: 1.0000\n",
      "Epoch 79/150\n",
      "3/3 [==============================] - 0s 38ms/step - loss: 0.5879 - accuracy: 0.9753 - val_loss: 0.5921 - val_accuracy: 1.0000\n",
      "Epoch 80/150\n",
      "3/3 [==============================] - 0s 41ms/step - loss: 0.5837 - accuracy: 0.9753 - val_loss: 0.5893 - val_accuracy: 1.0000\n",
      "Epoch 81/150\n",
      "3/3 [==============================] - 0s 35ms/step - loss: 0.5800 - accuracy: 0.9753 - val_loss: 0.5869 - val_accuracy: 1.0000\n",
      "Epoch 82/150\n",
      "3/3 [==============================] - 0s 34ms/step - loss: 0.5751 - accuracy: 0.9753 - val_loss: 0.5819 - val_accuracy: 1.0000\n",
      "Epoch 83/150\n",
      "3/3 [==============================] - 0s 37ms/step - loss: 0.5712 - accuracy: 0.9753 - val_loss: 0.5773 - val_accuracy: 1.0000\n",
      "Epoch 84/150\n",
      "3/3 [==============================] - 0s 42ms/step - loss: 0.5674 - accuracy: 0.9753 - val_loss: 0.5718 - val_accuracy: 1.0000\n",
      "Epoch 85/150\n",
      "3/3 [==============================] - 0s 45ms/step - loss: 0.5637 - accuracy: 0.9630 - val_loss: 0.5684 - val_accuracy: 1.0000\n",
      "Epoch 86/150\n",
      "3/3 [==============================] - 0s 45ms/step - loss: 0.5597 - accuracy: 0.9630 - val_loss: 0.5660 - val_accuracy: 1.0000\n",
      "Epoch 87/150\n",
      "3/3 [==============================] - 0s 34ms/step - loss: 0.5559 - accuracy: 0.9753 - val_loss: 0.5630 - val_accuracy: 1.0000\n",
      "Epoch 88/150\n",
      "3/3 [==============================] - 0s 35ms/step - loss: 0.5522 - accuracy: 0.9753 - val_loss: 0.5604 - val_accuracy: 1.0000\n",
      "Epoch 89/150\n",
      "3/3 [==============================] - 0s 38ms/step - loss: 0.5493 - accuracy: 0.9753 - val_loss: 0.5601 - val_accuracy: 0.9524\n",
      "Epoch 90/150\n",
      "3/3 [==============================] - 0s 54ms/step - loss: 0.5451 - accuracy: 0.9753 - val_loss: 0.5566 - val_accuracy: 0.9524\n",
      "Epoch 91/150\n",
      "3/3 [==============================] - 0s 35ms/step - loss: 0.5417 - accuracy: 0.9753 - val_loss: 0.5529 - val_accuracy: 0.9524\n",
      "Epoch 92/150\n",
      "3/3 [==============================] - 0s 31ms/step - loss: 0.5382 - accuracy: 0.9753 - val_loss: 0.5474 - val_accuracy: 1.0000\n",
      "Epoch 93/150\n",
      "3/3 [==============================] - 0s 31ms/step - loss: 0.5351 - accuracy: 0.9753 - val_loss: 0.5433 - val_accuracy: 1.0000\n",
      "Epoch 94/150\n",
      "3/3 [==============================] - 0s 34ms/step - loss: 0.5326 - accuracy: 0.9630 - val_loss: 0.5384 - val_accuracy: 1.0000\n",
      "Epoch 95/150\n",
      "3/3 [==============================] - 0s 35ms/step - loss: 0.5288 - accuracy: 0.9753 - val_loss: 0.5372 - val_accuracy: 1.0000\n",
      "Epoch 96/150\n",
      "3/3 [==============================] - 0s 36ms/step - loss: 0.5257 - accuracy: 0.9753 - val_loss: 0.5360 - val_accuracy: 1.0000\n",
      "Epoch 97/150\n",
      "3/3 [==============================] - 0s 46ms/step - loss: 0.5221 - accuracy: 0.9753 - val_loss: 0.5337 - val_accuracy: 0.9524\n",
      "Epoch 98/150\n",
      "3/3 [==============================] - 0s 39ms/step - loss: 0.5191 - accuracy: 0.9753 - val_loss: 0.5313 - val_accuracy: 0.9524\n",
      "Epoch 99/150\n",
      "3/3 [==============================] - 0s 33ms/step - loss: 0.5161 - accuracy: 0.9753 - val_loss: 0.5294 - val_accuracy: 0.9524\n",
      "Epoch 100/150\n",
      "3/3 [==============================] - 0s 34ms/step - loss: 0.5134 - accuracy: 0.9753 - val_loss: 0.5266 - val_accuracy: 0.9524\n",
      "Epoch 101/150\n",
      "3/3 [==============================] - 0s 31ms/step - loss: 0.5099 - accuracy: 0.9877 - val_loss: 0.5253 - val_accuracy: 0.9524\n",
      "Epoch 102/150\n",
      "3/3 [==============================] - 0s 34ms/step - loss: 0.5078 - accuracy: 0.9877 - val_loss: 0.5247 - val_accuracy: 0.9524\n",
      "Epoch 103/150\n",
      "3/3 [==============================] - 0s 47ms/step - loss: 0.5044 - accuracy: 0.9877 - val_loss: 0.5224 - val_accuracy: 0.9524\n",
      "Epoch 104/150\n",
      "3/3 [==============================] - 0s 33ms/step - loss: 0.5018 - accuracy: 0.9877 - val_loss: 0.5203 - val_accuracy: 0.9524\n",
      "Epoch 105/150\n",
      "3/3 [==============================] - 0s 32ms/step - loss: 0.4990 - accuracy: 0.9877 - val_loss: 0.5182 - val_accuracy: 0.9524\n",
      "Epoch 106/150\n",
      "3/3 [==============================] - 0s 34ms/step - loss: 0.4962 - accuracy: 0.9877 - val_loss: 0.5141 - val_accuracy: 0.9524\n",
      "Epoch 107/150\n",
      "3/3 [==============================] - 0s 34ms/step - loss: 0.4932 - accuracy: 0.9877 - val_loss: 0.5100 - val_accuracy: 0.9524\n",
      "Epoch 108/150\n",
      "3/3 [==============================] - 0s 39ms/step - loss: 0.4906 - accuracy: 0.9877 - val_loss: 0.5049 - val_accuracy: 0.9524\n",
      "Epoch 109/150\n",
      "3/3 [==============================] - 0s 45ms/step - loss: 0.4887 - accuracy: 0.9877 - val_loss: 0.5005 - val_accuracy: 1.0000\n",
      "Epoch 110/150\n",
      "3/3 [==============================] - 0s 46ms/step - loss: 0.4854 - accuracy: 0.9877 - val_loss: 0.4990 - val_accuracy: 0.9524\n",
      "Epoch 111/150\n",
      "3/3 [==============================] - 0s 42ms/step - loss: 0.4824 - accuracy: 0.9877 - val_loss: 0.4986 - val_accuracy: 0.9524\n",
      "Epoch 112/150\n",
      "3/3 [==============================] - 0s 30ms/step - loss: 0.4805 - accuracy: 0.9877 - val_loss: 0.5004 - val_accuracy: 0.9524\n",
      "Epoch 113/150\n",
      "3/3 [==============================] - 0s 34ms/step - loss: 0.4776 - accuracy: 0.9877 - val_loss: 0.4985 - val_accuracy: 0.9524\n",
      "Epoch 114/150\n",
      "3/3 [==============================] - 0s 31ms/step - loss: 0.4751 - accuracy: 0.9877 - val_loss: 0.4947 - val_accuracy: 0.9524\n",
      "Epoch 115/150\n",
      "3/3 [==============================] - 0s 32ms/step - loss: 0.4721 - accuracy: 0.9877 - val_loss: 0.4892 - val_accuracy: 0.9524\n",
      "Epoch 116/150\n",
      "3/3 [==============================] - 0s 31ms/step - loss: 0.4698 - accuracy: 0.9877 - val_loss: 0.4828 - val_accuracy: 1.0000\n",
      "Epoch 117/150\n"
     ]
    },
    {
     "name": "stdout",
     "output_type": "stream",
     "text": [
      "3/3 [==============================] - 0s 32ms/step - loss: 0.4681 - accuracy: 0.9877 - val_loss: 0.4782 - val_accuracy: 1.0000\n",
      "Epoch 118/150\n",
      "3/3 [==============================] - 0s 32ms/step - loss: 0.4655 - accuracy: 0.9877 - val_loss: 0.4772 - val_accuracy: 1.0000\n",
      "Epoch 119/150\n",
      "3/3 [==============================] - 0s 31ms/step - loss: 0.4629 - accuracy: 0.9877 - val_loss: 0.4760 - val_accuracy: 1.0000\n",
      "Epoch 120/150\n",
      "3/3 [==============================] - 0s 33ms/step - loss: 0.4605 - accuracy: 0.9877 - val_loss: 0.4762 - val_accuracy: 0.9524\n",
      "Epoch 121/150\n",
      "3/3 [==============================] - 0s 33ms/step - loss: 0.4580 - accuracy: 0.9877 - val_loss: 0.4759 - val_accuracy: 0.9524\n",
      "Epoch 122/150\n",
      "3/3 [==============================] - 0s 33ms/step - loss: 0.4554 - accuracy: 0.9877 - val_loss: 0.4757 - val_accuracy: 0.9524\n",
      "Epoch 123/150\n",
      "3/3 [==============================] - 0s 33ms/step - loss: 0.4533 - accuracy: 0.9877 - val_loss: 0.4754 - val_accuracy: 0.9524\n",
      "Epoch 124/150\n",
      "3/3 [==============================] - 0s 31ms/step - loss: 0.4514 - accuracy: 0.9877 - val_loss: 0.4741 - val_accuracy: 0.9524\n",
      "Epoch 125/150\n",
      "3/3 [==============================] - 0s 32ms/step - loss: 0.4489 - accuracy: 0.9877 - val_loss: 0.4718 - val_accuracy: 0.9524\n",
      "Epoch 126/150\n",
      "3/3 [==============================] - 0s 32ms/step - loss: 0.4468 - accuracy: 0.9877 - val_loss: 0.4697 - val_accuracy: 0.9524\n",
      "Epoch 127/150\n",
      "3/3 [==============================] - 0s 32ms/step - loss: 0.4443 - accuracy: 0.9877 - val_loss: 0.4675 - val_accuracy: 0.9524\n",
      "Epoch 128/150\n",
      "3/3 [==============================] - 0s 32ms/step - loss: 0.4421 - accuracy: 0.9877 - val_loss: 0.4649 - val_accuracy: 0.9524\n",
      "Epoch 129/150\n",
      "3/3 [==============================] - 0s 31ms/step - loss: 0.4399 - accuracy: 0.9877 - val_loss: 0.4623 - val_accuracy: 0.9524\n",
      "Epoch 130/150\n",
      "3/3 [==============================] - 0s 30ms/step - loss: 0.4376 - accuracy: 0.9877 - val_loss: 0.4599 - val_accuracy: 0.9524\n",
      "Epoch 131/150\n",
      "3/3 [==============================] - 0s 30ms/step - loss: 0.4355 - accuracy: 0.9877 - val_loss: 0.4574 - val_accuracy: 0.9524\n",
      "Epoch 132/150\n",
      "3/3 [==============================] - 0s 31ms/step - loss: 0.4334 - accuracy: 0.9877 - val_loss: 0.4557 - val_accuracy: 0.9524\n",
      "Epoch 133/150\n",
      "3/3 [==============================] - 0s 27ms/step - loss: 0.4312 - accuracy: 0.9877 - val_loss: 0.4530 - val_accuracy: 0.9524\n",
      "Epoch 134/150\n",
      "3/3 [==============================] - 0s 28ms/step - loss: 0.4292 - accuracy: 0.9877 - val_loss: 0.4506 - val_accuracy: 0.9524\n",
      "Epoch 135/150\n",
      "3/3 [==============================] - 0s 30ms/step - loss: 0.4271 - accuracy: 0.9877 - val_loss: 0.4493 - val_accuracy: 0.9524\n",
      "Epoch 136/150\n",
      "3/3 [==============================] - 0s 30ms/step - loss: 0.4251 - accuracy: 0.9877 - val_loss: 0.4474 - val_accuracy: 0.9524\n",
      "Epoch 137/150\n",
      "3/3 [==============================] - 0s 32ms/step - loss: 0.4231 - accuracy: 0.9877 - val_loss: 0.4471 - val_accuracy: 0.9524\n",
      "Epoch 138/150\n",
      "3/3 [==============================] - 0s 30ms/step - loss: 0.4213 - accuracy: 0.9877 - val_loss: 0.4456 - val_accuracy: 0.9524\n",
      "Epoch 139/150\n",
      "3/3 [==============================] - 0s 30ms/step - loss: 0.4190 - accuracy: 0.9877 - val_loss: 0.4410 - val_accuracy: 0.9524\n",
      "Epoch 140/150\n",
      "3/3 [==============================] - 0s 30ms/step - loss: 0.4171 - accuracy: 0.9877 - val_loss: 0.4361 - val_accuracy: 0.9524\n",
      "Epoch 141/150\n",
      "3/3 [==============================] - 0s 32ms/step - loss: 0.4152 - accuracy: 0.9877 - val_loss: 0.4330 - val_accuracy: 0.9524\n",
      "Epoch 142/150\n",
      "3/3 [==============================] - 0s 30ms/step - loss: 0.4135 - accuracy: 0.9877 - val_loss: 0.4323 - val_accuracy: 0.9524\n",
      "Epoch 143/150\n",
      "3/3 [==============================] - 0s 29ms/step - loss: 0.4113 - accuracy: 0.9877 - val_loss: 0.4310 - val_accuracy: 0.9524\n",
      "Epoch 144/150\n",
      "3/3 [==============================] - 0s 28ms/step - loss: 0.4094 - accuracy: 0.9877 - val_loss: 0.4304 - val_accuracy: 0.9524\n",
      "Epoch 145/150\n",
      "3/3 [==============================] - 0s 30ms/step - loss: 0.4075 - accuracy: 0.9877 - val_loss: 0.4301 - val_accuracy: 0.9524\n",
      "Epoch 146/150\n",
      "3/3 [==============================] - 0s 34ms/step - loss: 0.4056 - accuracy: 0.9877 - val_loss: 0.4291 - val_accuracy: 0.9524\n",
      "Epoch 147/150\n",
      "3/3 [==============================] - 0s 31ms/step - loss: 0.4038 - accuracy: 0.9877 - val_loss: 0.4276 - val_accuracy: 0.9524\n",
      "Epoch 148/150\n",
      "3/3 [==============================] - 0s 31ms/step - loss: 0.4019 - accuracy: 0.9877 - val_loss: 0.4264 - val_accuracy: 0.9524\n",
      "Epoch 149/150\n",
      "3/3 [==============================] - 0s 32ms/step - loss: 0.4001 - accuracy: 0.9877 - val_loss: 0.4255 - val_accuracy: 0.9524\n",
      "Epoch 150/150\n",
      "3/3 [==============================] - 0s 30ms/step - loss: 0.3986 - accuracy: 0.9877 - val_loss: 0.4243 - val_accuracy: 0.9524\n",
      "2/2 [==============================] - 0s 8ms/step - loss: 0.4146 - accuracy: 0.9792\n"
     ]
    }
   ],
   "source": [
    "input_size = 4\n",
    "hidden1_size = 200\n",
    "hidden2_size = 100\n",
    "output_size = 3\n",
    "\n",
    "\n",
    "model = tf.keras.Sequential([\n",
    "    tf.keras.layers.Dense(hidden1_size, activation='relu', input_shape=(input_size,)),\n",
    "    tf.keras.layers.Dense(hidden2_size, activation='softmax'),\n",
    "    tf.keras.layers.Dense(output_size, activation='softmax')\n",
    "])\n",
    "\n",
    "\n",
    "model.compile(optimizer='adam',\n",
    "              loss='sparse_categorical_crossentropy',\n",
    "              metrics=['accuracy'])\n",
    "\n",
    "history = model.fit(X_train_scaled, y_train, epochs= 150, batch_size = 32, validation_split = 0.2)\n",
    "loss, acc = model.evaluate(X_test_scaled, y_test)"
   ]
  },
  {
   "cell_type": "code",
   "execution_count": 111,
   "id": "39ca454f",
   "metadata": {},
   "outputs": [
    {
     "name": "stdout",
     "output_type": "stream",
     "text": [
      "Loss:  0.4146229028701782 Accuracy:  0.9791666865348816\n",
      "4/4 [==============================] - 0s 4ms/step\n",
      "(102, 4)\n",
      "[0 0 0 2 2 2 0 2 2 2 2 0 0 2 1 1 2 2 1 0 1 0 2 1 1 0 1 1 1 2 0 1 0 1 2 0 1\n",
      " 0 0 0 2 2 0 0 2 2 1 2 1 1 2 0 2 2 2 0 2 0 0 1 2 1 2 1 1 2 1 1 1 2 2 2 1 0\n",
      " 1 1 1 1 2 1 0 0 2 1 2 0 2 0 2 2 0 1 0 2 1 0 2 1 0 0 2 0]\n",
      "[0 0 0 2 2 2 0 2 2 2 2 0 0 2 1 1 2 2 1 0 1 0 2 1 1 0 1 1 1 2 0 1 0 1 2 0 1\n",
      " 0 0 0 2 2 0 0 2 2 1 2 1 1 2 0 2 2 2 0 2 0 0 1 2 1 2 1 1 2 1 1 1 2 1 2 1 0\n",
      " 1 1 1 1 2 1 0 0 2 1 2 0 2 0 2 2 0 1 0 2 1 0 2 1 0 0 1 0]\n"
     ]
    }
   ],
   "source": [
    "import numpy as np\n",
    "\n",
    "print(\"Loss: \", loss, \"Accuracy: \",  acc)\n",
    "y_pre = model.predict(X_train_scaled)\n",
    "\n",
    "print(X_train.shape)\n",
    "\n",
    "predicted_labels = np.argmax(y_pre, axis=1)\n",
    "print(predicted_labels)\n",
    "print(y_train.to_numpy())"
   ]
  },
  {
   "cell_type": "code",
   "execution_count": 94,
   "id": "8efc2094",
   "metadata": {},
   "outputs": [
    {
     "data": {
      "image/png": "[encoded data removed]",
      "text/plain": [
       "<Figure size 400x200 with 1 Axes>"
      ]
     },
     "metadata": {},
     "output_type": "display_data"
    }
   ],
   "source": [
    "plt.figure(figsize = (4,2))\n",
    "plt.plot(history.history['loss'])\n",
    "plt.title('Model Loss')\n",
    "plt.xlabel('Epochs')\n",
    "plt.ylabel('Loss')\n",
    "plt.show()"
   ]
  },
  {
   "cell_type": "code",
   "execution_count": 119,
   "id": "0fef8162",
   "metadata": {},
   "outputs": [
    {
     "data": {
      "text/plain": [
       "<matplotlib.collections.PathCollection at 0x234ff7a8d90>"
      ]
     },
     "execution_count": 119,
     "metadata": {},
     "output_type": "execute_result"
    },
    {
     "data": {
      "image/png": "[encoded data removed]",
      "text/plain": [
       "<Figure size 400x300 with 1 Axes>"
      ]
     },
     "metadata": {},
     "output_type": "display_data"
    }
   ],
   "source": [
    "import numpy as np\n",
    "x = np.arange(1,103)\n",
    "\n",
    "plt.figure(figsize = (4,3))\n",
    "plt.scatter(x, predicted_labels)\n",
    "plt.scatter(x, y_train.to_numpy())"
   ]
  }
 ],
 "metadata": {
  "kernelspec": {
   "display_name": "Python 3 (ipykernel)",
   "language": "python",
   "name": "python3"
  },
  "language_info": {
   "codemirror_mode": {
    "name": "ipython",
    "version": 3
   },
   "file_extension": ".py",
   "mimetype": "text/x-python",
   "name": "python",
   "nbconvert_exporter": "python",
   "pygments_lexer": "ipython3",
   "version": "3.9.13"
  }
 },
 "nbformat": 4,
 "nbformat_minor": 5
}
