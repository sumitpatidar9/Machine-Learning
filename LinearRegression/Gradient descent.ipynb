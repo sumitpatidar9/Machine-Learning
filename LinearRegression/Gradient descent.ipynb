{
 "cells": [
  {
   "cell_type": "code",
   "execution_count": 1,
   "id": "6974a5fa",
   "metadata": {},
   "outputs": [
    {
     "data": {
      "text/plain": [
       "(1.999393969030131, 0.004219079962359823)"
      ]
     },
     "execution_count": 1,
     "metadata": {},
     "output_type": "execute_result"
    }
   ],
   "source": [
    "import numpy as np\n",
    "def gradient_descent(x,y):\n",
    "    m = 0\n",
    "    c = 0\n",
    "    n = len(x)\n",
    "    iterations = 10000\n",
    "    learning_rate = 0.001\n",
    "\n",
    "    #y = mx+b\n",
    "    #cost function = 1/n*sum(y -y')**2\n",
    "    for i in range(iterations):\n",
    "        y_pre = m*x + c\n",
    "        cost = (1/n)*sum((y-y_pre)**2)\n",
    "        \n",
    "        dcostdm = -(2/n)*sum(x*(y - y_pre))\n",
    "        dcostdc = -(2/n)*sum(y - y_pre)\n",
    "        #print(f\"m: {m},  c: {c},  cost: {cost}, {i}\")\n",
    "        m = m -learning_rate * dcostdm\n",
    "        c = c - learning_rate * dcostdc\n",
    "    return m,c\n",
    "  \n",
    "x = np.array([1,2,3,4,5,6,7,8,9,10])\n",
    "y = np.array([2,4,6,8,10,12,14,16,18,20])\n",
    "\n",
    "gradient_descent(x,y)"
   ]
  },
  {
   "cell_type": "code",
   "execution_count": 2,
   "id": "8fa01077",
   "metadata": {},
   "outputs": [
    {
     "name": "stdout",
     "output_type": "stream",
     "text": [
      "1.999393969030131 0.004219079962359823\n",
      "199.94361598297544\n"
     ]
    }
   ],
   "source": [
    "m,c = gradient_descent(x,y)\n",
    "print(m,c)\n",
    "\n",
    "x_new = 100\n",
    "y_new = m*x_new+c\n",
    "print(y_new)"
   ]
  }
 ],
 "metadata": {
  "kernelspec": {
   "display_name": "Python 3 (ipykernel)",
   "language": "python",
   "name": "python3"
  },
  "language_info": {
   "codemirror_mode": {
    "name": "ipython",
    "version": 3
   },
   "file_extension": ".py",
   "mimetype": "text/x-python",
   "name": "python",
   "nbconvert_exporter": "python",
   "pygments_lexer": "ipython3",
   "version": "3.9.13"
  }
 },
 "nbformat": 4,
 "nbformat_minor": 5
}
