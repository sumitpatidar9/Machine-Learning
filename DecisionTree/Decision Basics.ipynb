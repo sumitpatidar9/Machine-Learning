{
 "cells": [
  {
   "cell_type": "markdown",
   "id": "e84cb340",
   "metadata": {},
   "source": [
    "<p style = \"\n",
    "color: red;\n",
    "font-size: 20px;\n",
    "font-family: san-serif;\n",
    "            \" > \n",
    "https://betterdatascience.com/mml-decision-trees/\n",
    "</p>"
   ]
  },
  {
   "cell_type": "markdown",
   "id": "33f212fd",
   "metadata": {},
   "source": [
    "import numpy as np\n",
    "from collections import Counter\n",
    "\n",
    "def entropy(s):\n",
    "    counts = np.bincount(s)\n",
    "    percentages = counts/len(s)\n",
    "    \n",
    "    entropy = 0\n",
    "    for pct in percentages:\n",
    "        if pct > 0:\n",
    "            entropy = entropy + pct * np.log2(pct)\n",
    "    return -entropy\n"
   ]
  },
  {
   "cell_type": "code",
   "execution_count": 2,
   "id": "893faa5f",
   "metadata": {},
   "outputs": [
    {
     "name": "stdout",
     "output_type": "stream",
     "text": [
      "Entropy: 0.88129\n"
     ]
    }
   ],
   "source": [
    "s = [0,0,0,0,0,0,0,1,1,1]\n",
    "print(f'Entropy: {np.round(entropy(s), 5)}')"
   ]
  },
  {
   "cell_type": "code",
   "execution_count": 3,
   "id": "f4e045ea",
   "metadata": {},
   "outputs": [],
   "source": [
    "def information_gain(parent, left_child, right_child):\n",
    "    num_left = len(left_child)/len(parent)\n",
    "    num_right = len(right_child)/len(parent)\n",
    "    \n",
    "    gain = entropy(parent) - ( num_left * entropy(left_child) + num_right * entropy(right_child) )\n",
    "    return gain"
   ]
  },
  {
   "cell_type": "code",
   "execution_count": 4,
   "id": "66365368",
   "metadata": {},
   "outputs": [
    {
     "name": "stdout",
     "output_type": "stream",
     "text": [
      "Information gain: 0.18094\n"
     ]
    }
   ],
   "source": [
    "parent = [0, 0, 0, 0, 0, 0, 0, 0, 0, 0, 0, 0, 1, 1, 1, 1, 1, 1, 1, 1]\n",
    "left_child = [0, 0, 0, 0, 0, 0, 0, 0, 0, 0, 1, 1]\n",
    "right_child = [0, 0, 0, 0, 1, 1, 1, 1]\n",
    "\n",
    "print(f'Information gain: {np.round(information_gain(parent, left_child, right_child), 5)}')"
   ]
  },
  {
   "cell_type": "code",
   "execution_count": 5,
   "id": "cb937d2e",
   "metadata": {},
   "outputs": [],
   "source": [
    "class Node:\n",
    "    def __init__(self, feature = None, threshold = None, data_left = None, data_right = None, gain = None, value = None):\n",
    "        self.feature = feature\n",
    "        self.threshold = threshold\n",
    "        self.data_left = data_left\n",
    "        self.data_right = data_right\n",
    "        self.gain = gain\n",
    "        self.value = value\n"
   ]
  },
  {
   "cell_type": "code",
   "execution_count": 6,
   "id": "689fa663",
   "metadata": {},
   "outputs": [
    {
     "ename": "IndentationError",
     "evalue": "expected an indented block (2812216717.py, line 35)",
     "output_type": "error",
     "traceback": [
      "\u001b[1;36m  File \u001b[1;32m\"C:\\Users\\Sumit\\AppData\\Local\\Temp\\ipykernel_23920\\2812216717.py\"\u001b[1;36m, line \u001b[1;32m35\u001b[0m\n\u001b[1;33m    \u001b[0m\n\u001b[1;37m    ^\u001b[0m\n\u001b[1;31mIndentationError\u001b[0m\u001b[1;31m:\u001b[0m expected an indented block\n"
     ]
    }
   ],
   "source": [
    "class DecisionTree:\n",
    "    def __init__(self, min_samples_split = 2, max_depth = 5):\n",
    "        self.min_sample_split = min_samples_split\n",
    "        self.max_depth = max_depth\n",
    "        self.root = None\n",
    "        \n",
    "    @staticmethod\n",
    "    def _entropy(s):\n",
    "        counts = np.bincount(np.array(s, dtype = np.int64))\n",
    "        percentages = counts/len(s)\n",
    "        \n",
    "        entropy = 0;\n",
    "        for pct in percentages:\n",
    "            if pct > 0:\n",
    "                entropy = entropy + pct*np.log2(pct)\n",
    "        return -entropy\n",
    "    \n",
    "    def _information_gain(self, parent, left_child, right_child):\n",
    "        num_left = len(left_child)/len(parent)\n",
    "        num_right = len(right_child)/len(parent)\n",
    "        \n",
    "        return self._entropy(parent) - ( num_left * self._entropy(left_child) + num_right * self._entropy(right_child))\n",
    "        \n",
    "    \n",
    "    def _best_split(self, X,y):\n",
    "        best_split = {}\n",
    "        best_info_gain = -1\n",
    "        n_rows, n_cols = X.shape\n",
    "        \n",
    "        for f_idx in range(n_cols):\n",
    "            X_curr = X[:, f_idx]\n",
    "            \n",
    "            for threshold in np.unique(X_curr):\n",
    "        \n",
    "        "
   ]
  },
  {
   "cell_type": "code",
   "execution_count": null,
   "id": "9a2c6592",
   "metadata": {},
   "outputs": [],
   "source": [
    "obj = DecisionTree()\n",
    "parent = [0, 0, 0, 0, 0, 0, 0, 0, 0, 0, 0, 0, 1, 1, 1, 1, 1, 1, 1, 1]\n",
    "left_child = [0, 0, 0, 0, 0, 0, 0, 0, 0, 0, 1, 1]\n",
    "right_child = [0, 0, 0, 0, 1, 1, 1, 1]\n",
    "obj._information_gain(parent, left_child,right_child)"
   ]
  },
  {
   "cell_type": "code",
   "execution_count": null,
   "id": "ab259ff1",
   "metadata": {},
   "outputs": [],
   "source": [
    "np.unique(np.array([\"yes\", \"no\", \"yes\", \"no\"]))"
   ]
  },
  {
   "cell_type": "code",
   "execution_count": null,
   "id": "91aabce1",
   "metadata": {},
   "outputs": [],
   "source": [
    "y = np.array(parent).reshape(1,-1).T\n",
    "print(y.shape)\n",
    "\n",
    "x = np.arange(0,60)\n",
    "x = x.reshape(20,3)\n",
    "print(x.shape)\n",
    "\n",
    "z = np.concatenate((x,y), axis = 1)\n",
    "print(z)\n",
    "\n",
    "for row in z:\n",
    "    if row[0] <= 5:\n",
    "        print(row)\n",
    "\n",
    "print(len(z))\n",
    "print(z[:,-1])"
   ]
  },
  {
   "cell_type": "code",
   "execution_count": 7,
   "id": "e0315d84",
   "metadata": {},
   "outputs": [
    {
     "name": "stdout",
     "output_type": "stream",
     "text": [
      "[0 0 1 1 1 0 0]\n",
      "[[ 1  1  7]\n",
      " [ 1  0 12]\n",
      " [ 0  1 18]\n",
      " [ 0  1 35]\n",
      " [ 1  1 38]\n",
      " [ 1  0 50]\n",
      " [ 0  0 83]]\n"
     ]
    }
   ],
   "source": [
    "loves_popcorn = np.array([1,1,0,0,1,1,0])\n",
    "loves_soda = np.array([1,0,1,1,1,0,0])\n",
    "Age = np.array([7,12,18,35,38,50,83])\n",
    "\n",
    "loves_cool_as_ice = np.array([0,0,1,1,1,0,0])\n",
    "\n",
    "loves_popcorn = loves_popcorn.reshape(-1,1)\n",
    "loves_soda = loves_soda.reshape(-1,1)\n",
    "Age = Age.reshape(-1,1)\n",
    "\n",
    "X = np.concatenate((loves_popcorn, loves_soda, Age), axis = 1)\n",
    "y = loves_cool_as_ice\n",
    "\n",
    "print(y)\n",
    "print(X)"
   ]
  },
  {
   "cell_type": "code",
   "execution_count": 8,
   "id": "0c736848",
   "metadata": {},
   "outputs": [],
   "source": [
    "def best_split(X, y):\n",
    "    best_split = {}\n",
    "    best_info_gain = -1\n",
    "    n_rows, n_cols = X.shape\n",
    "    \n",
    "    \n",
    "    for f_idx in range(n_cols):\n",
    "        X_curr = X[:, f_idx]\n",
    "        \n",
    "        for threshold in np.unique(X_curr):\n",
    "            df = np.concatenate( (X,y.reshape(1,-1).T), axis = 1)\n",
    "            df_left = np.array( [row for row in df if row[f_idx] <= threshold] )\n",
    "            df_right = np.array( [row for row in df if row[f_idx] > threshold] )\n",
    "            \n",
    "            if len(df_left) > 0 and len(df_right) > 0:\n",
    "                y = df[:, -1]\n",
    "                y_left = df_left[:, -1]\n",
    "                y_right = df_right[:, -1]\n",
    "                \n",
    "                gain = information_gain(y, y_left, y_right)\n",
    "                if gain > best_info_gain:\n",
    "                    \n",
    "                    best_split = {\n",
    "                        'feature_index': f_idx,\n",
    "                        'threshold': threshold,\n",
    "                        'df_left': df_left,\n",
    "                        'df_right': df_right,\n",
    "                        'y_left:': y_left,\n",
    "                        'y_right': y_right,\n",
    "                        'gain': gain\n",
    "                    }\n",
    "                    best_info_gain = gain\n",
    "                    \n",
    "        return best_split         "
   ]
  },
  {
   "cell_type": "code",
   "execution_count": 9,
   "id": "a692822e",
   "metadata": {},
   "outputs": [
    {
     "name": "stdout",
     "output_type": "stream",
     "text": [
      "{'feature_index': 0, 'threshold': 0, 'df_left': array([[ 0,  1, 18,  1],\n",
      "       [ 0,  1, 35,  1],\n",
      "       [ 0,  0, 83,  0]]), 'df_right': array([[ 1,  1,  7,  0],\n",
      "       [ 1,  0, 12,  0],\n",
      "       [ 1,  1, 38,  1],\n",
      "       [ 1,  0, 50,  0]]), 'y_left:': array([1, 1, 0]), 'y_right': array([0, 0, 1, 0]), 'gain': 0.12808527889139443}\n"
     ]
    }
   ],
   "source": [
    "print( best_split(X, y) )"
   ]
  },
  {
   "cell_type": "code",
   "execution_count": 10,
   "id": "98dc7d46",
   "metadata": {},
   "outputs": [
    {
     "name": "stdout",
     "output_type": "stream",
     "text": [
      "{'feature_index': 0, 'threshold': 0, 'df_left': array([[ 0,  1, 18,  1],\n",
      "       [ 0,  1, 35,  1],\n",
      "       [ 0,  0, 83,  0]]), 'df_right': array([[ 1,  1,  7,  0],\n",
      "       [ 1,  0, 12,  0],\n",
      "       [ 1,  1, 38,  1],\n",
      "       [ 1,  0, 50,  0]]), 'y_left:': array([1, 1, 0]), 'y_right': array([0, 0, 1, 0]), 'gain': 0.12808527889139443}\n",
      "Left__\n",
      "[[ 0  1 18  1]\n",
      " [ 0  1 35  1]\n",
      " [ 0  0 83  0]]\n",
      "[[ 0  1 18]\n",
      " [ 0  1 35]\n",
      " [ 0  0 83]]\n",
      "[1 1 0]\n",
      "  \n",
      "Right__\n",
      "[[ 1  1  7  0]\n",
      " [ 1  0 12  0]\n",
      " [ 1  1 38  1]\n",
      " [ 1  0 50  0]]\n",
      "[[ 1  1  7]\n",
      " [ 1  0 12]\n",
      " [ 1  1 38]\n",
      " [ 1  0 50]]\n",
      "[0 0 1 0]\n"
     ]
    }
   ],
   "source": [
    "best = best_split(X,y)\n",
    "print(best)\n",
    "print(\"Left__\")\n",
    "print(best['df_left'])\n",
    "print(best['df_left'][:, :-1])\n",
    "print(best['df_left'][:,-1])\n",
    "\n",
    "print(\"  \")\n",
    "print(\"Right__\")\n",
    "print(best['df_right'])\n",
    "print(best['df_right'][:, :-1])\n",
    "print(best['df_right'][:, -1])"
   ]
  },
  {
   "cell_type": "code",
   "execution_count": 16,
   "id": "badf16d1",
   "metadata": {},
   "outputs": [
    {
     "name": "stdout",
     "output_type": "stream",
     "text": [
      "{}\n",
      "{}\n"
     ]
    }
   ],
   "source": [
    "X_left = best['df_left'][:, :-1]\n",
    "y_left = best['df_left'][:,-1]\n",
    "\n",
    "\n",
    "X_right = best['df_right'][:, :-1]\n",
    "y_right = best['df_right'][:, -1]\n",
    "\n",
    "best_left = best_split(X_left,y_left)\n",
    "best_right = best_split(X_right, y_right)\n",
    "\n",
    "print(best_left)\n",
    "print(best_right)"
   ]
  },
  {
   "cell_type": "code",
   "execution_count": 9,
   "id": "4ca98439",
   "metadata": {},
   "outputs": [
    {
     "name": "stdout",
     "output_type": "stream",
     "text": [
      "Counter({'hello': 3, 'world': 1, 'again': 1})\n",
      "[('hello', 3), ('world', 1), ('again', 1)]\n",
      "[('hello', 3)]\n",
      "('hello', 3)\n",
      "hello\n"
     ]
    }
   ],
   "source": [
    "from collections import Counter\n",
    "\n",
    "# Create a list of words\n",
    "words = [\"hello\", \"world\", \"hello\", \"again\", \"hello\"]\n",
    "\n",
    "# Create a Counter object\n",
    "counter = Counter(words)\n",
    "print(counter)\n",
    "\n",
    "# Get the most common word\n",
    "most_common = counter.most_common()\n",
    "print(most_common)\n",
    "\n",
    "most_common = counter.most_common(1)\n",
    "\n",
    "# Print the most common word\n",
    "print(most_common)\n",
    "print(most_common[0])\n",
    "print(most_common[0][0])"
   ]
  },
  {
   "cell_type": "code",
   "execution_count": null,
   "id": "5348abcd",
   "metadata": {},
   "outputs": [],
   "source": []
  }
 ],
 "metadata": {
  "kernelspec": {
   "display_name": "Python 3 (ipykernel)",
   "language": "python",
   "name": "python3"
  },
  "language_info": {
   "codemirror_mode": {
    "name": "ipython",
    "version": 3
   },
   "file_extension": ".py",
   "mimetype": "text/x-python",
   "name": "python",
   "nbconvert_exporter": "python",
   "pygments_lexer": "ipython3",
   "version": "3.9.13"
  }
 },
 "nbformat": 4,
 "nbformat_minor": 5
}
