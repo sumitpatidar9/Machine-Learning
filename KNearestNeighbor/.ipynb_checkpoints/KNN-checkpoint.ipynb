{
 "cells": [
  {
   "cell_type": "code",
   "execution_count": 1,
   "id": "5fad737d",
   "metadata": {},
   "outputs": [],
   "source": [
    "import numpy as np\n",
    "from collections import Counter\n",
    "\n",
    "def euclidean_distance(x1,x2):\n",
    "    distance = np.sqrt( np.sum ( (x1 - x2)**2 ) )\n",
    "    return distance\n",
    "\n",
    "\n",
    "class KNN:\n",
    "    def __init__(self, k = 3):\n",
    "        self.k = k\n",
    "        \n",
    "    def fit(self,X,y):\n",
    "        self.X_train = X\n",
    "        self.y_train = y\n",
    "            \n",
    "        \n",
    "    def predict(self,X):\n",
    "        predictions = [ self._predict(x) for x in X ]\n",
    "        return predictions\n",
    "        \n",
    "        \n",
    "    def _predict(self, x):\n",
    "        #compute the distance\n",
    "        distances = [ euclidean_distance(x, X_train) for X_train in self.X_train ]\n",
    "            \n",
    "            \n",
    "        #get the colosest k\n",
    "        k_indices = np.argsort(distances)[:self.k]\n",
    "        k_nearest_labels = [ self.y_train[i] for i in k_indices ]\n",
    "            \n",
    "            \n",
    "        #majority values\n",
    "        most_common = Counter(k_nearest_labels).most_common()\n",
    "        return most_common[0][0]"
   ]
  },
  {
   "cell_type": "code",
   "execution_count": 5,
   "id": "095a3f39",
   "metadata": {},
   "outputs": [
    {
     "name": "stderr",
     "output_type": "stream",
     "text": [
      "[NbConvertApp] Converting notebook KNN.ipynb to script\n",
      "[NbConvertApp] Writing 1042 bytes to KNN.py\n"
     ]
    }
   ],
   "source": [
    "!jupyter nbconvert --to script KNN.ipynb"
   ]
  },
  {
   "cell_type": "code",
   "execution_count": null,
   "id": "c18a884b",
   "metadata": {},
   "outputs": [],
   "source": []
  }
 ],
 "metadata": {
  "kernelspec": {
   "display_name": "Python 3 (ipykernel)",
   "language": "python",
   "name": "python3"
  },
  "language_info": {
   "codemirror_mode": {
    "name": "ipython",
    "version": 3
   },
   "file_extension": ".py",
   "mimetype": "text/x-python",
   "name": "python",
   "nbconvert_exporter": "python",
   "pygments_lexer": "ipython3",
   "version": "3.9.13"
  }
 },
 "nbformat": 4,
 "nbformat_minor": 5
}
